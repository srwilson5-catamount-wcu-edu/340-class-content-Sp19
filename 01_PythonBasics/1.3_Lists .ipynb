{
 "cells": [
  {
   "cell_type": "markdown",
   "metadata": {},
   "source": [
    "# 1.3 Python *Lists*  \n",
    "\n",
    "- [Python Lists](#Python-Lists) \n",
    "- [Creating a List](#Creating-a-List)  \n",
    "- [List Indexes](#List-Indexes)\n",
    "- [Appending values to a List](#Appending-values-to-a-List)  \n",
    "- [Checking if a value is in a List](#Checking-if-a-value-is-in-a-List)  \n",
    "- [Sorting a List](#Sorting-a-List)  \n",
    "- [Formatting Dollar Amounts](#Formatting-Dollar-Amounts)\n",
    "  "
   ]
  },
  {
   "cell_type": "markdown",
   "metadata": {},
   "source": [
    "# Python Lists  \n",
    "- A Variable contains a single value.  A List contains a collection of values.  \n",
    "- We will use Lists all the time when working with data.   \n",
    "![Mailbox](Images/ListMailbox.png)"
   ]
  },
  {
   "cell_type": "markdown",
   "metadata": {},
   "source": [
    "# Creating a List  "
   ]
  },
  {
   "cell_type": "code",
   "execution_count": null,
   "metadata": {},
   "outputs": [],
   "source": [
    "# Create a List named customer_names\n",
    "customer_names = [\"Janet Baker\", \n",
    "                  \"George Lee\", \n",
    "                  \"Sue Li\", \n",
    "                  \"Samuel Hoosier\", \n",
    "                  \"Sandra Weeks\", \n",
    "                  \"William Macy\", \n",
    "                  \"Andy Harrison\", \n",
    "                  \"Ken Ford\", \n",
    "                  \"Denny Franks\",\n",
    "                  \"Shawn James\"]\n",
    "\n",
    "print(customer_names)"
   ]
  },
  {
   "cell_type": "markdown",
   "metadata": {},
   "source": [
    "**Copy the following code into the code cell below and run it:**  \n",
    "```Python\n",
    "# Create a List with test scores in it\n",
    "exam_scores = [89, 93, 78, 92]\n",
    "\n",
    "# Display it \n",
    "print(exam_scores)\n",
    "```"
   ]
  },
  {
   "cell_type": "code",
   "execution_count": null,
   "metadata": {},
   "outputs": [],
   "source": []
  },
  {
   "cell_type": "markdown",
   "metadata": {},
   "source": [
    "# List Indexes\n",
    "Lists are indexed starting with zero."
   ]
  },
  {
   "cell_type": "code",
   "execution_count": null,
   "metadata": {},
   "outputs": [],
   "source": [
    "print(customer_names)"
   ]
  },
  {
   "cell_type": "code",
   "execution_count": null,
   "metadata": {},
   "outputs": [],
   "source": [
    "# Display the first value in the customer_names List\n",
    "customer_names[0]"
   ]
  },
  {
   "cell_type": "code",
   "execution_count": null,
   "metadata": {},
   "outputs": [],
   "source": [
    "# Display the second value in the customer_names List\n",
    "customer_names[1]"
   ]
  },
  {
   "cell_type": "code",
   "execution_count": null,
   "metadata": {},
   "outputs": [],
   "source": [
    "print(exam_scores)"
   ]
  },
  {
   "cell_type": "code",
   "execution_count": null,
   "metadata": {},
   "outputs": [],
   "source": [
    "# Display the first value in the exam_scores List\n",
    "exam_scores[0]"
   ]
  },
  {
   "cell_type": "markdown",
   "metadata": {},
   "source": [
    "# Appending values to a List"
   ]
  },
  {
   "cell_type": "code",
   "execution_count": null,
   "metadata": {},
   "outputs": [],
   "source": [
    "# Appending values to the customer_names List\n",
    "customer_names.append(\"Dan Clapper\")\n",
    "customer_names.append(\"Anne Massey\")\n",
    "\n",
    "print(customer_names)"
   ]
  },
  {
   "cell_type": "markdown",
   "metadata": {},
   "source": [
    "# Checking if a value is in a List  \n",
    "- Use the *in* keyword \n",
    "- It will return True if it is in the List or False if it is not"
   ]
  },
  {
   "cell_type": "code",
   "execution_count": null,
   "metadata": {},
   "outputs": [],
   "source": [
    "print(customer_names)"
   ]
  },
  {
   "cell_type": "markdown",
   "metadata": {},
   "source": [
    "**Copy the following code into the code cell below and run it:**  \n",
    "```Python\n",
    "# Check if value is in the List\n",
    "is_in_list = 'Ken Ford' in customer_names\n",
    "\n",
    "# Display result\n",
    "print(is_in_list)\n",
    "```"
   ]
  },
  {
   "cell_type": "code",
   "execution_count": null,
   "metadata": {},
   "outputs": [],
   "source": []
  },
  {
   "cell_type": "markdown",
   "metadata": {},
   "source": [
    "# Sorting a List"
   ]
  },
  {
   "cell_type": "markdown",
   "metadata": {},
   "source": [
    "### Sorting a List with String Values"
   ]
  },
  {
   "cell_type": "code",
   "execution_count": null,
   "metadata": {},
   "outputs": [],
   "source": [
    "print(\"List before Sorting:  \", customer_names)"
   ]
  },
  {
   "cell_type": "code",
   "execution_count": null,
   "metadata": {},
   "outputs": [],
   "source": [
    "#Sorting a list (Ascending by default)\n",
    "customer_names.sort()\n",
    "\n",
    "print(\"List AFTER Sorting:  \", customer_names)"
   ]
  },
  {
   "cell_type": "code",
   "execution_count": null,
   "metadata": {},
   "outputs": [],
   "source": [
    "#Sorting a list: (Descending)\n",
    "customer_names.sort(reverse=True)\n",
    "\n",
    "print(\"List AFTER Sorting - Descending :  \", customer_names)"
   ]
  },
  {
   "cell_type": "markdown",
   "metadata": {},
   "source": [
    "### Sorting a List with Numeric Values  \n",
    "**Copy the following code into the code cells below -- where they belong -- and run them:**  \n",
    "```Python\n",
    "\n",
    "full = [10.75, 20.0, 18.0, 11.25, 9.5]\n",
    "\n",
    "print(\"Unsorted List: \", full)\n",
    "\n",
    "full.sort()\n",
    "\n",
    "print(\"Sorted List:  \", full)\n",
    "\n",
    "full.sort(reverse=True)\n",
    "\n",
    "print(full)\n",
    "```"
   ]
  },
  {
   "cell_type": "code",
   "execution_count": null,
   "metadata": {},
   "outputs": [],
   "source": [
    "# Create a list named full with numeric values to sort\n",
    "\n",
    "\n",
    "# Display List\n"
   ]
  },
  {
   "cell_type": "code",
   "execution_count": null,
   "metadata": {},
   "outputs": [],
   "source": [
    "# Sort List in ascending order (default)\n",
    "\n",
    "\n",
    "# Display sorted list\n"
   ]
  },
  {
   "cell_type": "code",
   "execution_count": null,
   "metadata": {},
   "outputs": [],
   "source": [
    "# Sort List in descending order then display\n",
    "\n",
    "\n",
    "# Display sorted list\n"
   ]
  },
  {
   "cell_type": "markdown",
   "metadata": {},
   "source": [
    "# Formatting Dollar Amounts"
   ]
  },
  {
   "cell_type": "code",
   "execution_count": null,
   "metadata": {},
   "outputs": [],
   "source": [
    "salary = 80000\n",
    "\n",
    "# Display salary formatted as dollars - with two decimal places\n",
    "print('${:,.2f}'.format(salary))"
   ]
  },
  {
   "cell_type": "code",
   "execution_count": null,
   "metadata": {},
   "outputs": [],
   "source": [
    "# Display salary formatted as dollars - with zero decimal places\n",
    "print('${:,.0f}'.format(salary))"
   ]
  },
  {
   "cell_type": "code",
   "execution_count": null,
   "metadata": {},
   "outputs": [],
   "source": [
    "# Display with text\n",
    "print(\"The value for monthly_sales is: \", '${:,.2f}'.format(salary))"
   ]
  }
 ],
 "metadata": {
  "kernelspec": {
   "display_name": "Python 3",
   "language": "python",
   "name": "python3"
  },
  "language_info": {
   "codemirror_mode": {
    "name": "ipython",
    "version": 3
   },
   "file_extension": ".py",
   "mimetype": "text/x-python",
   "name": "python",
   "nbconvert_exporter": "python",
   "pygments_lexer": "ipython3",
   "version": "3.6.4"
  }
 },
 "nbformat": 4,
 "nbformat_minor": 2
}
